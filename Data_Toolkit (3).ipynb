{
  "nbformat": 4,
  "nbformat_minor": 0,
  "metadata": {
    "colab": {
      "provenance": []
    },
    "kernelspec": {
      "name": "python3",
      "display_name": "Python 3"
    },
    "language_info": {
      "name": "python"
    }
  },
  "cells": [
    {
      "cell_type": "markdown",
      "source": [
        "#Data Toolkit(Theory)"
      ],
      "metadata": {
        "id": "KdOmVTYPVJls"
      }
    },
    {
      "cell_type": "markdown",
      "source": [
        "1.What is NumPy, and why is it widely used in Python?\n",
        "   - NumPy (short for Numerical Python) is a fundamental Python library for scientific computing, providing powerful tools for working with multi-dimensional arrays and matrices, and is widely used for its efficiency and versatility in data analysis, machine learning, and scientific research."
      ],
      "metadata": {
        "id": "a-P0gCjHVOaS"
      }
    },
    {
      "cell_type": "code",
      "execution_count": 1,
      "metadata": {
        "colab": {
          "base_uri": "https://localhost:8080/",
          "height": 72
        },
        "id": "dNobZaLQVGWv",
        "outputId": "af237cc6-2047-4f97-965e-d7a0a6490abb"
      },
      "outputs": [
        {
          "output_type": "execute_result",
          "data": {
            "text/plain": [
              "'\\nNumPy (short for Numerical Python) is a fundamental Python library for scientific computing, providing powerful tools for working with multi-dimensional arrays and matrices, and is widely used for its efficiency and versatility in data analysis, machine learning, and scientific research. \\n'"
            ],
            "application/vnd.google.colaboratory.intrinsic+json": {
              "type": "string"
            }
          },
          "metadata": {},
          "execution_count": 1
        }
      ],
      "source": [
        "#What is NumPy, and why is it widely used in Python?\n",
        "'''\n",
        "NumPy (short for Numerical Python) is a fundamental Python library for scientific computing, providing powerful tools for working with multi-dimensional arrays and matrices, and is widely used for its efficiency and versatility in data analysis, machine learning, and scientific research.\n",
        "'''"
      ]
    },
    {
      "cell_type": "markdown",
      "source": [
        "2.How does broadcasting work in NumPy?\n",
        "  - The term broadcasting describes how NumPy treats arrays with different shapes during arithmetic operations. Subject to certain constraints, the smaller array is “broadcast” across the larger array so that they have compatible shapes."
      ],
      "metadata": {
        "id": "GX7jiB1WVeMJ"
      }
    },
    {
      "cell_type": "code",
      "source": [
        "#How does broadcasting work in NumPy?\n",
        "'''\n",
        "The term broadcasting describes how NumPy treats arrays with different shapes during arithmetic operations. Subject to certain constraints, the smaller array is “broadcast” across the larger array so that they have compatible shapes.\n",
        "'''"
      ],
      "metadata": {
        "colab": {
          "base_uri": "https://localhost:8080/",
          "height": 54
        },
        "id": "cPn6Vgk7VdAA",
        "outputId": "df30b69d-1ce8-41ae-940a-af0c7abaf369"
      },
      "execution_count": 2,
      "outputs": [
        {
          "output_type": "execute_result",
          "data": {
            "text/plain": [
              "'\\nThe term broadcasting describes how NumPy treats arrays with different shapes during arithmetic operations. Subject to certain constraints, the smaller array is “broadcast” across the larger array so that they have compatible shapes.\\n'"
            ],
            "application/vnd.google.colaboratory.intrinsic+json": {
              "type": "string"
            }
          },
          "metadata": {},
          "execution_count": 2
        }
      ]
    },
    {
      "cell_type": "markdown",
      "source": [
        "3. What is a Pandas DataFrame?\n",
        "    - pandas DataFrame is a way to represent and work with tabular data. It can be seen as a table that organizes data into rows and columns, making it a two-dimensional data structure. A DataFrame can be created from scratch, or you can use other data structures, like NumPy arrays."
      ],
      "metadata": {
        "id": "EpUXLqz-Vq06"
      }
    },
    {
      "cell_type": "code",
      "source": [
        "# What is a Pandas DataFrame?\n",
        "'''\n",
        "pandas DataFrame is a way to represent and work with tabular data. It can be seen as a table that organizes data into rows and columns, making it a two-dimensional data structure. A DataFrame can be created from scratch, or you can use other data structures, like NumPy arrays.\n",
        "'''"
      ],
      "metadata": {
        "colab": {
          "base_uri": "https://localhost:8080/",
          "height": 72
        },
        "id": "2RZTBFmJVqM2",
        "outputId": "7e8bc4d4-3ff8-4de2-c461-7609b05b05a5"
      },
      "execution_count": 3,
      "outputs": [
        {
          "output_type": "execute_result",
          "data": {
            "text/plain": [
              "'\\npandas DataFrame is a way to represent and work with tabular data. It can be seen as a table that organizes data into rows and columns, making it a two-dimensional data structure. A DataFrame can be created from scratch, or you can use other data structures, like NumPy arrays.\\n'"
            ],
            "application/vnd.google.colaboratory.intrinsic+json": {
              "type": "string"
            }
          },
          "metadata": {},
          "execution_count": 3
        }
      ]
    },
    {
      "cell_type": "markdown",
      "source": [
        "4.Explain the use of the groupby() method in Pandas.\n",
        "   - In Pandas, groupby() splits all the records from your data set into different categories or groups and offers you flexibility to analyze the data. The groupby() function in Pandas splits all the records from a data set into different categories or groups, offering flexibility to analyze the data by these groups."
      ],
      "metadata": {
        "id": "fXS3x-MFV1gw"
      }
    },
    {
      "cell_type": "code",
      "source": [
        "#Explain the use of the groupby() method in Pandas.\n",
        "'''\n",
        "In Pandas, groupby() splits all the records from your data set into different categories or groups and offers you flexibility to analyze the data. The groupby() function in Pandas splits all the records from a data set into different categories or groups, offering flexibility to analyze the data by these groups.\n",
        "'''"
      ],
      "metadata": {
        "colab": {
          "base_uri": "https://localhost:8080/",
          "height": 72
        },
        "id": "wwkoQhdkV09m",
        "outputId": "5954330d-3069-4fb6-ea48-e30c2d1e3bfa"
      },
      "execution_count": 4,
      "outputs": [
        {
          "output_type": "execute_result",
          "data": {
            "text/plain": [
              "'\\nIn Pandas, groupby() splits all the records from your data set into different categories or groups and offers you flexibility to analyze the data. The groupby() function in Pandas splits all the records from a data set into different categories or groups, offering flexibility to analyze the data by these groups.\\n'"
            ],
            "application/vnd.google.colaboratory.intrinsic+json": {
              "type": "string"
            }
          },
          "metadata": {},
          "execution_count": 4
        }
      ]
    },
    {
      "cell_type": "markdown",
      "source": [
        "5.Why is Seaborn preferred for statistical visualizations?\n",
        "   -  One of the main advantages of Seaborn over Matplotlib is its ease of use. Seaborn is built on top of Matplotlib and provides a higher-level interface for creating statistical graphics. This means that Seaborn requires less code to create complex visualizations compared to Matplotlib."
      ],
      "metadata": {
        "id": "ASVdOhxkWANH"
      }
    },
    {
      "cell_type": "code",
      "source": [
        "#Why is Seaborn preferred for statistical visualizations?\n",
        "'''\n",
        " One of the main advantages of Seaborn over Matplotlib is its ease of use. Seaborn is built on top of Matplotlib and provides a higher-level interface for creating statistical graphics. This means that Seaborn requires less code to create complex visualizations compared to Matplotlib.\n",
        "'''"
      ],
      "metadata": {
        "colab": {
          "base_uri": "https://localhost:8080/",
          "height": 72
        },
        "id": "syUBc_PrV_ld",
        "outputId": "e2389a06-829d-4999-d002-e95f6e11bfde"
      },
      "execution_count": 5,
      "outputs": [
        {
          "output_type": "execute_result",
          "data": {
            "text/plain": [
              "'\\n One of the main advantages of Seaborn over Matplotlib is its ease of use. Seaborn is built on top of Matplotlib and provides a higher-level interface for creating statistical graphics. This means that Seaborn requires less code to create complex visualizations compared to Matplotlib.\\n'"
            ],
            "application/vnd.google.colaboratory.intrinsic+json": {
              "type": "string"
            }
          },
          "metadata": {},
          "execution_count": 5
        }
      ]
    },
    {
      "cell_type": "markdown",
      "source": [
        "6.What are the differences between NumPy arrays and Python lists?\n",
        "   - NumPy is a Python package useful for generating arrays, which have many distinctions from Python lists. The biggest difference is NumPy arrays use fewer resources than Python lists, which becomes important when storing a large amount of data."
      ],
      "metadata": {
        "id": "NIzjrguWWLMv"
      }
    },
    {
      "cell_type": "code",
      "source": [
        "#What are the differences between NumPy arrays and Python lists?\n",
        "'''\n",
        "NumPy is a Python package useful for generating arrays, which have many distinctions from Python lists. The biggest difference is NumPy arrays use fewer resources than Python lists, which becomes important when storing a large amount of data.\n",
        "'''"
      ],
      "metadata": {
        "colab": {
          "base_uri": "https://localhost:8080/",
          "height": 72
        },
        "id": "yE43jCVPWKs9",
        "outputId": "5e123477-7710-406e-96ae-503f37e1b396"
      },
      "execution_count": 6,
      "outputs": [
        {
          "output_type": "execute_result",
          "data": {
            "text/plain": [
              "'\\nNumPy is a Python package useful for generating arrays, which have many distinctions from Python lists. The biggest difference is NumPy arrays use fewer resources than Python lists, which becomes important when storing a large amount of data.\\n'"
            ],
            "application/vnd.google.colaboratory.intrinsic+json": {
              "type": "string"
            }
          },
          "metadata": {},
          "execution_count": 6
        }
      ]
    },
    {
      "cell_type": "markdown",
      "source": [
        "7.What is a heatmap, and when should it be used?\n",
        "   - A heatmap is a data visualization technique that uses color variations to represent the magnitude of values in a dataset. It's essentially a 2D grid where each cell's color corresponds to the value at that location. Heatmaps are useful for quickly identifying patterns, trends, and areas of high and low concentration within a dataset."
      ],
      "metadata": {
        "id": "XWDqU39wWbMe"
      }
    },
    {
      "cell_type": "code",
      "source": [
        "#What is a heatmap, and when should it be used?\n",
        "'''\n",
        "A heatmap is a data visualization technique that uses color variations to represent the magnitude of values in a dataset. It's essentially a 2D grid where each cell's color corresponds to the value at that location. Heatmaps are useful for quickly identifying patterns, trends, and areas of high and low concentration within a dataset.\n",
        "'''"
      ],
      "metadata": {
        "colab": {
          "base_uri": "https://localhost:8080/",
          "height": 72
        },
        "id": "tFXMqeP_WadL",
        "outputId": "d9639c0d-6ece-440b-80ec-7c4555cb3b8b"
      },
      "execution_count": 7,
      "outputs": [
        {
          "output_type": "execute_result",
          "data": {
            "text/plain": [
              "\"\\nA heatmap is a data visualization technique that uses color variations to represent the magnitude of values in a dataset. It's essentially a 2D grid where each cell's color corresponds to the value at that location. Heatmaps are useful for quickly identifying patterns, trends, and areas of high and low concentration within a dataset. \\n\""
            ],
            "application/vnd.google.colaboratory.intrinsic+json": {
              "type": "string"
            }
          },
          "metadata": {},
          "execution_count": 7
        }
      ]
    },
    {
      "cell_type": "markdown",
      "source": [
        "8.What does the term “vectorized operation” mean in NumPy?\n",
        "   - Vectorized operations, on the other hand, take advantage of low-level optimizations implemented in libraries like NumPy (which pandas is built on). These operations apply a function to an entire array (or DataFrame/Series) at once, leveraging highly efficient C and Fortran code under the hood."
      ],
      "metadata": {
        "id": "Dq4yzdAvWpkF"
      }
    },
    {
      "cell_type": "code",
      "source": [
        "#What does the term “vectorized operation” mean in NumPy?\n",
        "'''\n",
        "Vectorized operations, on the other hand, take advantage of low-level optimizations implemented in libraries like NumPy (which pandas is built on). These operations apply a function to an entire array (or DataFrame/Series) at once, leveraging highly efficient C and Fortran code under the hood.\n",
        "'''"
      ],
      "metadata": {
        "colab": {
          "base_uri": "https://localhost:8080/",
          "height": 72
        },
        "id": "jgkD27xxWpHC",
        "outputId": "7d5bf761-0fc3-4fcd-ad0e-237f3be43db0"
      },
      "execution_count": 8,
      "outputs": [
        {
          "output_type": "execute_result",
          "data": {
            "text/plain": [
              "'\\nVectorized operations, on the other hand, take advantage of low-level optimizations implemented in libraries like NumPy (which pandas is built on). These operations apply a function to an entire array (or DataFrame/Series) at once, leveraging highly efficient C and Fortran code under the hood.\\n'"
            ],
            "application/vnd.google.colaboratory.intrinsic+json": {
              "type": "string"
            }
          },
          "metadata": {},
          "execution_count": 8
        }
      ]
    },
    {
      "cell_type": "markdown",
      "source": [
        "9.How does Matplotlib differ from Plotly?\n",
        "   - Both Matplotlib and Plotly have their distinct advantages. Matplotlib offers unmatched control and is perfect for creating static, publication-quality visuals. Plotly, on the other hand, excels in interactivity and ease of use, making it ideal for dynamic presentations and web applications."
      ],
      "metadata": {
        "id": "NnicQicDW0Fd"
      }
    },
    {
      "cell_type": "code",
      "source": [
        "#How does Matplotlib differ from Plotly?\n",
        "'''\n",
        "Both Matplotlib and Plotly have their distinct advantages. Matplotlib offers unmatched control and is perfect for creating static, publication-quality visuals. Plotly, on the other hand, excels in interactivity and ease of use, making it ideal for dynamic presentations and web applications.\n",
        "'''"
      ],
      "metadata": {
        "colab": {
          "base_uri": "https://localhost:8080/",
          "height": 72
        },
        "id": "Tsg94rvxWzS8",
        "outputId": "30c45e11-35fe-4707-8dd7-d220dd873700"
      },
      "execution_count": 9,
      "outputs": [
        {
          "output_type": "execute_result",
          "data": {
            "text/plain": [
              "'\\nBoth Matplotlib and Plotly have their distinct advantages. Matplotlib offers unmatched control and is perfect for creating static, publication-quality visuals. Plotly, on the other hand, excels in interactivity and ease of use, making it ideal for dynamic presentations and web applications.\\n'"
            ],
            "application/vnd.google.colaboratory.intrinsic+json": {
              "type": "string"
            }
          },
          "metadata": {},
          "execution_count": 9
        }
      ]
    },
    {
      "cell_type": "markdown",
      "source": [
        "10.What is the significance of hierarchical indexing in Pandas?\n",
        "  - Hierarchical Indexing, also known as MultiIndexing, is a powerful feature in Pandas that allows you to have multiple levels of indexing on an axis (row or column). This capability is particularly useful when dealing with high-dimensional data."
      ],
      "metadata": {
        "id": "FmN0_CK3XALU"
      }
    },
    {
      "cell_type": "code",
      "source": [
        "#What is the significance of hierarchical indexing in Pandas?\n",
        "'''\n",
        "Hierarchical Indexing, also known as MultiIndexing, is a powerful feature in Pandas that allows you to have multiple levels of indexing on an axis (row or column). This capability is particularly useful when dealing with high-dimensional data.\n",
        "'''"
      ],
      "metadata": {
        "colab": {
          "base_uri": "https://localhost:8080/",
          "height": 72
        },
        "id": "1UorhvSBW_ty",
        "outputId": "8361cdfa-5eae-49ae-8f58-a91661fe7be9"
      },
      "execution_count": 10,
      "outputs": [
        {
          "output_type": "execute_result",
          "data": {
            "text/plain": [
              "'\\nHierarchical Indexing, also known as MultiIndexing, is a powerful feature in Pandas that allows you to have multiple levels of indexing on an axis (row or column). This capability is particularly useful when dealing with high-dimensional data.\\n'"
            ],
            "application/vnd.google.colaboratory.intrinsic+json": {
              "type": "string"
            }
          },
          "metadata": {},
          "execution_count": 10
        }
      ]
    },
    {
      "cell_type": "markdown",
      "source": [
        "11.What is the role of Seaborn’s pairplot() function?\n",
        "   - Seaborn's pairplot() function generates a grid of pairwise relationships within a dataset, visualizing relationships between variables in a single, comprehensive plot. It creates subplots where each variable is plotted against every other variable, providing a visual overview of potential correlations and distributions."
      ],
      "metadata": {
        "id": "8YmsR1OhXL-c"
      }
    },
    {
      "cell_type": "code",
      "source": [
        "#What is the role of Seaborn’s pairplot() function?\n",
        "'''\n",
        "Seaborn's pairplot() function generates a grid of pairwise relationships within a dataset, visualizing relationships between variables in a single, comprehensive plot. It creates subplots where each variable is plotted against every other variable, providing a visual overview of potential correlations and distributions.\n",
        "'''"
      ],
      "metadata": {
        "colab": {
          "base_uri": "https://localhost:8080/",
          "height": 72
        },
        "id": "Q7-K-A63XLc5",
        "outputId": "51e750af-8db3-40cb-e9b4-ac530eedf011"
      },
      "execution_count": 11,
      "outputs": [
        {
          "output_type": "execute_result",
          "data": {
            "text/plain": [
              "\"\\nSeaborn's pairplot() function generates a grid of pairwise relationships within a dataset, visualizing relationships between variables in a single, comprehensive plot. It creates subplots where each variable is plotted against every other variable, providing a visual overview of potential correlations and distributions.  \\n\""
            ],
            "application/vnd.google.colaboratory.intrinsic+json": {
              "type": "string"
            }
          },
          "metadata": {},
          "execution_count": 11
        }
      ]
    },
    {
      "cell_type": "markdown",
      "source": [
        "12.What is the purpose of the describe() function in Pandas?\n",
        "   - The describe() function in Pandas is used to generate descriptive statistics that summarize the central tendency, dispersion, and shape of a dataset's distribution, excluding NaN values, for both numeric and object series, as well as DataFrame column sets of mixed data types."
      ],
      "metadata": {
        "id": "biKWTUZMXV0z"
      }
    },
    {
      "cell_type": "code",
      "source": [
        "#What is the purpose of the describe() function in Pandas?\n",
        "'''\n",
        "The describe() function in Pandas is used to generate descriptive statistics that summarize the central tendency, dispersion, and shape of a dataset's distribution, excluding NaN values, for both numeric and object series, as well as DataFrame column sets of mixed data types.\n",
        "'''"
      ],
      "metadata": {
        "colab": {
          "base_uri": "https://localhost:8080/",
          "height": 72
        },
        "id": "PvnEJH_XXVLA",
        "outputId": "854b55bd-27a7-4209-a2fc-f22b5d18b324"
      },
      "execution_count": 12,
      "outputs": [
        {
          "output_type": "execute_result",
          "data": {
            "text/plain": [
              "\"\\nThe describe() function in Pandas is used to generate descriptive statistics that summarize the central tendency, dispersion, and shape of a dataset's distribution, excluding NaN values, for both numeric and object series, as well as DataFrame column sets of mixed data types. \\n\""
            ],
            "application/vnd.google.colaboratory.intrinsic+json": {
              "type": "string"
            }
          },
          "metadata": {},
          "execution_count": 12
        }
      ]
    },
    {
      "cell_type": "markdown",
      "source": [
        "13.Why is handling missing data important in Pandas?\n",
        "   - Handling missing data in Pandas is crucial for ensuring the reliability and accuracy of data analysis. Missing values can lead to incorrect analysis, skewed results, and ultimately, misleading conclusions. Pandas provides various tools to identify and address these missing values, such as isna(), dropna(), and fillna(), allowing for robust data preprocessing and analysis."
      ],
      "metadata": {
        "id": "eebul-G0Xhgy"
      }
    },
    {
      "cell_type": "code",
      "source": [
        "#Why is handling missing data important in Pandas?\n",
        "'''\n",
        "Handling missing data in Pandas is crucial for ensuring the reliability and accuracy of data analysis. Missing values can lead to incorrect analysis, skewed results, and ultimately, misleading conclusions. Pandas provides various tools to identify and address these missing values, such as isna(), dropna(), and fillna(), allowing for robust data preprocessing and analysis.\n",
        "'''"
      ],
      "metadata": {
        "colab": {
          "base_uri": "https://localhost:8080/",
          "height": 90
        },
        "id": "nNfyX8L1Xgn3",
        "outputId": "ca3fcec7-7101-4b57-eb73-52bddb1d3c6f"
      },
      "execution_count": 13,
      "outputs": [
        {
          "output_type": "execute_result",
          "data": {
            "text/plain": [
              "'\\nHandling missing data in Pandas is crucial for ensuring the reliability and accuracy of data analysis. Missing values can lead to incorrect analysis, skewed results, and ultimately, misleading conclusions. Pandas provides various tools to identify and address these missing values, such as isna(), dropna(), and fillna(), allowing for robust data preprocessing and analysis. \\n'"
            ],
            "application/vnd.google.colaboratory.intrinsic+json": {
              "type": "string"
            }
          },
          "metadata": {},
          "execution_count": 13
        }
      ]
    },
    {
      "cell_type": "markdown",
      "source": [
        "14.What are the benefits of using Plotly for data visualization?\n",
        "  - Plotly offers a wide range of chart types, from simple line charts to complex 3D plots, enabling diverse and comprehensive data visualizations. Its ability to handle large datasets efficiently ensures smooth performance even with extensive data, making it suitable for data-intensive applications."
      ],
      "metadata": {
        "id": "242R1Bw7XsGR"
      }
    },
    {
      "cell_type": "code",
      "source": [
        "#What are the benefits of using Plotly for data visualization?\n",
        "'''\n",
        "Plotly offers a wide range of chart types, from simple line charts to complex 3D plots, enabling diverse and comprehensive data visualizations. Its ability to handle large datasets efficiently ensures smooth performance even with extensive data, making it suitable for data-intensive applications.\n",
        "'''"
      ],
      "metadata": {
        "colab": {
          "base_uri": "https://localhost:8080/",
          "height": 72
        },
        "id": "LhYihlv0Xrf3",
        "outputId": "84a9aa6b-7d47-4906-d232-31d12ed92832"
      },
      "execution_count": 14,
      "outputs": [
        {
          "output_type": "execute_result",
          "data": {
            "text/plain": [
              "'\\nPlotly offers a wide range of chart types, from simple line charts to complex 3D plots, enabling diverse and comprehensive data visualizations. Its ability to handle large datasets efficiently ensures smooth performance even with extensive data, making it suitable for data-intensive applications.\\n'"
            ],
            "application/vnd.google.colaboratory.intrinsic+json": {
              "type": "string"
            }
          },
          "metadata": {},
          "execution_count": 14
        }
      ]
    },
    {
      "cell_type": "markdown",
      "source": [
        "15.How does NumPy handle multidimensional arrays?\n",
        "   - To create a multi-dimensional array using NumPy, we can use the np. array() function and pass in a nested list of values as an argument. The outer list represents the rows of the array, and the inner lists represent the columns."
      ],
      "metadata": {
        "id": "wfMHbFR2X-FQ"
      }
    },
    {
      "cell_type": "code",
      "source": [
        "#How does NumPy handle multidimensional arrays?\n",
        "'''\n",
        "To create a multi-dimensional array using NumPy, we can use the np. array() function and pass in a nested list of values as an argument. The outer list represents the rows of the array, and the inner lists represent the columns.\n",
        "'''"
      ],
      "metadata": {
        "colab": {
          "base_uri": "https://localhost:8080/",
          "height": 54
        },
        "id": "lJgL0uAxX9m-",
        "outputId": "f5ba45c8-251b-4c2b-9aef-dfeb2065f3c7"
      },
      "execution_count": 15,
      "outputs": [
        {
          "output_type": "execute_result",
          "data": {
            "text/plain": [
              "'\\nTo create a multi-dimensional array using NumPy, we can use the np. array() function and pass in a nested list of values as an argument. The outer list represents the rows of the array, and the inner lists represent the columns.\\n'"
            ],
            "application/vnd.google.colaboratory.intrinsic+json": {
              "type": "string"
            }
          },
          "metadata": {},
          "execution_count": 15
        }
      ]
    },
    {
      "cell_type": "markdown",
      "source": [
        "16.What is the role of Bokeh in data visualization?\n",
        "  - Bokeh is a Python library that facilitates the creation of interactive and web-based data visualizations. It allows users to generate various types of plots, charts, and dashboards that can be displayed directly in a web browser or embedded in web applications. Bokeh distinguishes itself from other visualization libraries by focusing on interactive web-based output, making it suitable for projects where user interaction and exploration are crucial.\n",
        "  "
      ],
      "metadata": {
        "id": "yGvqSKU_YHsY"
      }
    },
    {
      "cell_type": "code",
      "source": [
        "#What is the role of Bokeh in data visualization?\n",
        "'''\n",
        "Bokeh is a Python library that facilitates the creation of interactive and web-based data visualizations. It allows users to generate various types of plots, charts, and dashboards that can be displayed directly in a web browser or embedded in web applications. Bokeh distinguishes itself from other visualization libraries by focusing on interactive web-based output, making it suitable for projects where user interaction and exploration are crucial.\n",
        "'''"
      ],
      "metadata": {
        "colab": {
          "base_uri": "https://localhost:8080/",
          "height": 90
        },
        "id": "rHrv7pNhYHE9",
        "outputId": "832e052c-0783-457f-eeba-f31b092c7548"
      },
      "execution_count": 16,
      "outputs": [
        {
          "output_type": "execute_result",
          "data": {
            "text/plain": [
              "'\\nBokeh is a Python library that facilitates the creation of interactive and web-based data visualizations. It allows users to generate various types of plots, charts, and dashboards that can be displayed directly in a web browser or embedded in web applications. Bokeh distinguishes itself from other visualization libraries by focusing on interactive web-based output, making it suitable for projects where user interaction and exploration are crucial. \\n'"
            ],
            "application/vnd.google.colaboratory.intrinsic+json": {
              "type": "string"
            }
          },
          "metadata": {},
          "execution_count": 16
        }
      ]
    },
    {
      "cell_type": "markdown",
      "source": [
        "17.Explain the difference between apply() and map() in Pandas.\n",
        "  - 'map' applies a function to each element of a series and returns a new series with the function applied. Often used when a transformation or substitution is needed. 'apply' can be used on both Series(Element-wise) and DataFrames(Rows or Columns), returns a new Dataframe or series."
      ],
      "metadata": {
        "id": "Or-8Om82YUFH"
      }
    },
    {
      "cell_type": "code",
      "source": [
        "#Explain the difference between apply() and map() in Pandas.\n",
        "'''\n",
        "'map' applies a function to each element of a series and returns a new series with the function applied. Often used when a transformation or substitution is needed. 'apply' can be used on both Series(Element-wise) and DataFrames(Rows or Columns), returns a new Dataframe or series.\n",
        "'''"
      ],
      "metadata": {
        "colab": {
          "base_uri": "https://localhost:8080/",
          "height": 72
        },
        "id": "qJWVToL9YTk9",
        "outputId": "2095acc7-f029-4c5d-ff91-25edea61cb40"
      },
      "execution_count": 17,
      "outputs": [
        {
          "output_type": "execute_result",
          "data": {
            "text/plain": [
              "\"\\n'map' applies a function to each element of a series and returns a new series with the function applied. Often used when a transformation or substitution is needed. 'apply' can be used on both Series(Element-wise) and DataFrames(Rows or Columns), returns a new Dataframe or series.\\n\""
            ],
            "application/vnd.google.colaboratory.intrinsic+json": {
              "type": "string"
            }
          },
          "metadata": {},
          "execution_count": 17
        }
      ]
    },
    {
      "cell_type": "markdown",
      "source": [
        "18.What are some advanced features of NumPy?\n",
        "   - NumPy, a core library for numerical computing in Python, offers advanced features like efficient multi-dimensional arrays, array manipulation tools, linear algebra capabilities, and broadcasting, making it a powerful tool for scientific computing and data analysis."
      ],
      "metadata": {
        "id": "D96w54E3YheG"
      }
    },
    {
      "cell_type": "code",
      "source": [
        "#What are some advanced features of NumPy?\n",
        "'''\n",
        "NumPy, a core library for numerical computing in Python, offers advanced features like efficient multi-dimensional arrays, array manipulation tools, linear algebra capabilities, and broadcasting, making it a powerful tool for scientific computing and data analysis.\n",
        "'''"
      ],
      "metadata": {
        "colab": {
          "base_uri": "https://localhost:8080/",
          "height": 72
        },
        "id": "DhyjNNUGYg08",
        "outputId": "dafa8aa5-441c-43c2-b280-fbf686aaf10e"
      },
      "execution_count": 18,
      "outputs": [
        {
          "output_type": "execute_result",
          "data": {
            "text/plain": [
              "'\\nNumPy, a core library for numerical computing in Python, offers advanced features like efficient multi-dimensional arrays, array manipulation tools, linear algebra capabilities, and broadcasting, making it a powerful tool for scientific computing and data analysis. \\n'"
            ],
            "application/vnd.google.colaboratory.intrinsic+json": {
              "type": "string"
            }
          },
          "metadata": {},
          "execution_count": 18
        }
      ]
    },
    {
      "cell_type": "markdown",
      "source": [
        "19.How does Pandas simplify time series analysis?\n",
        "   - Combining the ease of use of dateutil and datetime modules and the vectorized interface and efficient storage of NumPy's datetime64, pandas provides a Timestamp object. The library then makes a DatetimeIndex from these Timestamp objects to index a DataFrame or Series."
      ],
      "metadata": {
        "id": "gYE0GgxwYrf1"
      }
    },
    {
      "cell_type": "code",
      "source": [
        "#How does Pandas simplify time series analysis?\n",
        "'''\n",
        "Combining the ease of use of dateutil and datetime modules and the vectorized interface and efficient storage of NumPy's datetime64, pandas provides a Timestamp object. The library then makes a DatetimeIndex from these Timestamp objects to index a DataFrame or Series.\n",
        "'''"
      ],
      "metadata": {
        "colab": {
          "base_uri": "https://localhost:8080/",
          "height": 72
        },
        "id": "i4KTfHmkYrHL",
        "outputId": "2bee0f8b-7055-4e75-96ec-4b7163927e9e"
      },
      "execution_count": 19,
      "outputs": [
        {
          "output_type": "execute_result",
          "data": {
            "text/plain": [
              "\"\\nCombining the ease of use of dateutil and datetime modules and the vectorized interface and efficient storage of NumPy's datetime64, pandas provides a Timestamp object. The library then makes a DatetimeIndex from these Timestamp objects to index a DataFrame or Series.\\n\""
            ],
            "application/vnd.google.colaboratory.intrinsic+json": {
              "type": "string"
            }
          },
          "metadata": {},
          "execution_count": 19
        }
      ]
    },
    {
      "cell_type": "markdown",
      "source": [
        "20.What is the role of a pivot table in Pandas?\n",
        "   - Pandas pivot tables work in a very similar way to those found in spreadsheet tools such as Microsoft Excel. The pivot table function takes in a data frame and the parameters detailing the shape you want the data to take. Then it outputs summarized data in the form of a pivot table."
      ],
      "metadata": {
        "id": "-moUOLI0Y24-"
      }
    },
    {
      "cell_type": "code",
      "source": [
        "#What is the role of a pivot table in Pandas?\n",
        "'''\n",
        "Pandas pivot tables work in a very similar way to those found in spreadsheet tools such as Microsoft Excel. The pivot table function takes in a data frame and the parameters detailing the shape you want the data to take. Then it outputs summarized data in the form of a pivot table.\n",
        "'''"
      ],
      "metadata": {
        "colab": {
          "base_uri": "https://localhost:8080/",
          "height": 72
        },
        "id": "Ifc58yeRY2Qj",
        "outputId": "5beb738c-5fb4-455e-b819-0a2cac273f7a"
      },
      "execution_count": 20,
      "outputs": [
        {
          "output_type": "execute_result",
          "data": {
            "text/plain": [
              "'\\nPandas pivot tables work in a very similar way to those found in spreadsheet tools such as Microsoft Excel. The pivot table function takes in a data frame and the parameters detailing the shape you want the data to take. Then it outputs summarized data in the form of a pivot table.\\n'"
            ],
            "application/vnd.google.colaboratory.intrinsic+json": {
              "type": "string"
            }
          },
          "metadata": {},
          "execution_count": 20
        }
      ]
    },
    {
      "cell_type": "markdown",
      "source": [
        "21.Why is NumPy’s array slicing faster than Python’s list slicing?\n",
        "  - They are faster as they are stored in a continuous place in a memory. In this article, we'll explore NumPy array slicing, which involves taking some elements from one given index to another given index."
      ],
      "metadata": {
        "id": "sj9XaKXwZAuN"
      }
    },
    {
      "cell_type": "code",
      "source": [
        "#Why is NumPy’s array slicing faster than Python’s list slicing?\n",
        "'''\n",
        "They are faster as they are stored in a continuous place in a memory. In this article, we'll explore NumPy array slicing, which involves taking some elements from one given index to another given index.\n",
        "'''"
      ],
      "metadata": {
        "colab": {
          "base_uri": "https://localhost:8080/",
          "height": 54
        },
        "id": "_p8jL1A3ZARj",
        "outputId": "ab943832-2e46-4878-de99-773be708ece2"
      },
      "execution_count": 21,
      "outputs": [
        {
          "output_type": "execute_result",
          "data": {
            "text/plain": [
              "\"\\nThey are faster as they are stored in a continuous place in a memory. In this article, we'll explore NumPy array slicing, which involves taking some elements from one given index to another given index.\\n\""
            ],
            "application/vnd.google.colaboratory.intrinsic+json": {
              "type": "string"
            }
          },
          "metadata": {},
          "execution_count": 21
        }
      ]
    },
    {
      "cell_type": "markdown",
      "source": [
        "22.What are some common use cases for Seaborn?\n",
        "   - Seaborn is widely used for a variety of data visualization tasks, especially in data science and machine learning. It excels at creating visually appealing and statistically informative plots with minimal code, making it ideal for tasks like exploratory data analysis, statistical analysis, and machine learning visualization."
      ],
      "metadata": {
        "id": "sJ-O1FeuZQ5j"
      }
    },
    {
      "cell_type": "code",
      "source": [
        "#What are some common use cases for Seaborn?\n",
        "'''\n",
        "Seaborn is widely used for a variety of data visualization tasks, especially in data science and machine learning. It excels at creating visually appealing and statistically informative plots with minimal code, making it ideal for tasks like exploratory data analysis, statistical analysis, and machine learning visualization.\n",
        "'''"
      ],
      "metadata": {
        "colab": {
          "base_uri": "https://localhost:8080/",
          "height": 72
        },
        "id": "ieR7k8cTZPoh",
        "outputId": "24502e59-4077-47ff-e850-3fd1ee8b0ad1"
      },
      "execution_count": 22,
      "outputs": [
        {
          "output_type": "execute_result",
          "data": {
            "text/plain": [
              "'\\nSeaborn is widely used for a variety of data visualization tasks, especially in data science and machine learning. It excels at creating visually appealing and statistically informative plots with minimal code, making it ideal for tasks like exploratory data analysis, statistical analysis, and machine learning visualization. \\n'"
            ],
            "application/vnd.google.colaboratory.intrinsic+json": {
              "type": "string"
            }
          },
          "metadata": {},
          "execution_count": 22
        }
      ]
    },
    {
      "cell_type": "markdown",
      "source": [
        "#Data Toolkit(Practical)"
      ],
      "metadata": {
        "id": "oJ3TpTc5ZcHr"
      }
    },
    {
      "cell_type": "markdown",
      "source": [
        "1.How do you create a 2D NumPy array and calculate the sum of each row?"
      ],
      "metadata": {
        "id": "U0wPC3bHZiNF"
      }
    },
    {
      "cell_type": "code",
      "source": [
        "#code\n",
        "import numpy as np\n",
        "data = np.array([1, 2, 3, 4])\n",
        "total_sum = np.sum(data)\n",
        "print(total_sum)"
      ],
      "metadata": {
        "colab": {
          "base_uri": "https://localhost:8080/"
        },
        "id": "uN1Z4K8cZbIh",
        "outputId": "7d8dbdb6-2251-42eb-baf4-99f0ef52b4ab"
      },
      "execution_count": 23,
      "outputs": [
        {
          "output_type": "stream",
          "name": "stdout",
          "text": [
            "10\n"
          ]
        }
      ]
    },
    {
      "cell_type": "markdown",
      "source": [
        "2.Write a Pandas script to find the mean of a specific column in a DataFrame."
      ],
      "metadata": {
        "id": "uCreqKSaZuFj"
      }
    },
    {
      "cell_type": "code",
      "source": [
        "#code\n",
        "import pandas as pd\n",
        "def calculate_column_mean(df, column_name):\n",
        "  \"\"\"\n",
        "  Calculates the mean of a specific column in a Pandas DataFrame.\n",
        "\n",
        "  Args:\n",
        "    df: The Pandas DataFrame.\n",
        "    column_name: The name of the column to calculate the mean for.\n",
        "\n",
        "  Returns:\n",
        "    The mean of the specified column, or None if the column does not exist.\n",
        "  \"\"\"\n",
        "  if column_name in df.columns:\n",
        "    return df[column_name].mean()\n",
        "  else:\n",
        "    return None\n",
        "data = {'Name': ['Alice', 'Bob', 'Charlie', 'David'],\n",
        "        'Age': [25, 30, 35, 40],\n",
        "        'Salary': [50000, 60000, 70000, 80000]}\n",
        "my_df = pd.DataFrame(data)\n",
        "mean_salary = calculate_column_mean(my_df, 'Salary')\n",
        "print(f\"The mean of the 'Salary' column is: {mean_salary}\")\n",
        "mean_invalid_column = calculate_column_mean(my_df, 'InvalidColumn')\n",
        "print(f\"The mean of the 'InvalidColumn' column is: {mean_invalid_column}\")"
      ],
      "metadata": {
        "colab": {
          "base_uri": "https://localhost:8080/"
        },
        "id": "y4_tvLDJZsJA",
        "outputId": "a2443abd-269a-438a-f319-fde958fbab45"
      },
      "execution_count": 24,
      "outputs": [
        {
          "output_type": "stream",
          "name": "stdout",
          "text": [
            "The mean of the 'Salary' column is: 65000.0\n",
            "The mean of the 'InvalidColumn' column is: None\n"
          ]
        }
      ]
    },
    {
      "cell_type": "markdown",
      "source": [
        "3.Create a scatter plot using Matplotlib?"
      ],
      "metadata": {
        "id": "Uf7atwrFZ1ua"
      }
    },
    {
      "cell_type": "code",
      "source": [
        "import matplotlib.pyplot as plt\n",
        "import numpy as np #code\n",
        "x = np.array([5,7,8,7,2,17,2,9,4,11,12,9,6])\n",
        "y = np.array([99,86,87,88,111,86,103,87,94,78,77,85,86])\n",
        "plt.scatter(x, y)\n",
        "x = np.array([2,2,8,1,15,8,12,9,7,3,11,4,7,14,12])\n",
        "y = np.array([100,105,84,105,90,99,90,95,94,100,79,112,91,80,85])\n",
        "plt.scatter(x, y)\n",
        "plt.show()"
      ],
      "metadata": {
        "colab": {
          "base_uri": "https://localhost:8080/",
          "height": 430
        },
        "id": "EWA9vY3lZzcX",
        "outputId": "d8c92280-e310-4a68-e878-072dcef7d269"
      },
      "execution_count": 25,
      "outputs": [
        {
          "output_type": "display_data",
          "data": {
            "text/plain": [
              "<Figure size 640x480 with 1 Axes>"
            ],
            "image/png": "[encoded data removed]"
          },
          "metadata": {}
        }
      ]
    },
    {
      "cell_type": "markdown",
      "source": [
        "4.How do you calculate the correlation matrix using Seaborn and visualize it with a heatmap."
      ],
      "metadata": {
        "id": "CrvEQu2LZ_k6"
      }
    },
    {
      "cell_type": "code",
      "source": [
        "import pandas as pd\n",
        "import seaborn as sns\n",
        "import matplotlib.pyplot as plt\n",
        "data = {'A': [1, 2, 3, 4, 5], 'B': [5, 4, 3, 2, 1], 'C': [2, 4, 6, 8, 10]}\n",
        "df = pd.DataFrame(data)\n",
        "correlation_matrix = df.corr()\n",
        "plt.figure(figsize=(8, 6))  #code\n",
        "sns.heatmap(correlation_matrix, cmap='coolwarm', annot=True, fmt=\".2f\", square=True, linewidths=0.5)\n",
        "plt.title('Correlation Heatmap')\n",
        "plt.show()"
      ],
      "metadata": {
        "colab": {
          "base_uri": "https://localhost:8080/",
          "height": 545
        },
        "id": "rvDeFlNKZ-m-",
        "outputId": "65971e17-ce15-4ad1-eb58-9de19aeda6d0"
      },
      "execution_count": 26,
      "outputs": [
        {
          "output_type": "display_data",
          "data": {
            "text/plain": [
              "<Figure size 800x600 with 2 Axes>"
            ],
            "image/png": "[encoded data removed]"
          },
          "metadata": {}
        }
      ]
    },
    {
      "cell_type": "markdown",
      "source": [
        "5.Generate a bar plot using Plotly."
      ],
      "metadata": {
        "id": "LbgfLTTsaHGb"
      }
    },
    {
      "cell_type": "code",
      "source": [
        "import plotly.graph_objects as go\n",
        "categories = ['A', 'B', 'C', 'D', 'E']\n",
        "values = [15, 22, 18, 12, 28]\n",
        "fig = go.Figure(data=[go.Bar(x=categories, y=values)])  #code\n",
        "fig.update_layout(title=\"Simple Bar Chart\", xaxis_title=\"Categories\", yaxis_title=\"Values\")\n",
        "fig.show()"
      ],
      "metadata": {
        "colab": {
          "base_uri": "https://localhost:8080/",
          "height": 542
        },
        "id": "Kx8m7LujaGcG",
        "outputId": "cecc5aa4-a175-4fa8-b547-f5b59c838df7"
      },
      "execution_count": 27,
      "outputs": [
        {
          "output_type": "display_data",
          "data": {
            "text/html": [
              "<html>\n",
              "<head><meta charset=\"utf-8\" /></head>\n",
              "<body>\n",
              "    <div>            <script src=\"https://cdnjs.cloudflare.com/ajax/libs/mathjax/2.7.5/MathJax.js?config=TeX-AMS-MML_SVG\"></script><script type=\"text/javascript\">if (window.MathJax && window.MathJax.Hub && window.MathJax.Hub.Config) {window.MathJax.Hub.Config({SVG: {font: \"STIX-Web\"}});}</script>                <script type=\"text/javascript\">window.PlotlyConfig = {MathJaxConfig: 'local'};</script>\n",
              "        <script charset=\"utf-8\" src=\"https://cdn.plot.ly/plotly-2.35.2.min.js\"></script>                <div id=\"ed919c53-bb78-46e5-86d7-044614944a25\" class=\"plotly-graph-div\" style=\"height:525px; width:100%;\"></div>            <script type=\"text/javascript\">                                    window.PLOTLYENV=window.PLOTLYENV || {};                                    if (document.getElementById(\"ed919c53-bb78-46e5-86d7-044614944a25\")) {                    Plotly.newPlot(                        \"ed919c53-bb78-46e5-86d7-044614944a25\",                        [{\"x\":[\"A\",\"B\",\"C\",\"D\",\"E\"],\"y\":[15,22,18,12,28],\"type\":\"bar\"}],                        {\"template\":{\"data\":{\"histogram2dcontour\":[{\"type\":\"histogram2dcontour\",\"colorbar\":{\"outlinewidth\":0,\"ticks\":\"\"},\"colorscale\":[[0.0,\"#0d0887\"],[0.1111111111111111,\"#46039f\"],[0.2222222222222222,\"#7201a8\"],[0.3333333333333333,\"#9c179e\"],[0.4444444444444444,\"#bd3786\"],[0.5555555555555556,\"#d8576b\"],[0.6666666666666666,\"#ed7953\"],[0.7777777777777778,\"#fb9f3a\"],[0.8888888888888888,\"#fdca26\"],[1.0,\"#f0f921\"]]}],\"choropleth\":[{\"type\":\"choropleth\",\"colorbar\":{\"outlinewidth\":0,\"ticks\":\"\"}}],\"histogram2d\":[{\"type\":\"histogram2d\",\"colorbar\":{\"outlinewidth\":0,\"ticks\":\"\"},\"colorscale\":[[0.0,\"#0d0887\"],[0.1111111111111111,\"#46039f\"],[0.2222222222222222,\"#7201a8\"],[0.3333333333333333,\"#9c179e\"],[0.4444444444444444,\"#bd3786\"],[0.5555555555555556,\"#d8576b\"],[0.6666666666666666,\"#ed7953\"],[0.7777777777777778,\"#fb9f3a\"],[0.8888888888888888,\"#fdca26\"],[1.0,\"#f0f921\"]]}],\"heatmap\":[{\"type\":\"heatmap\",\"colorbar\":{\"outlinewidth\":0,\"ticks\":\"\"},\"colorscale\":[[0.0,\"#0d0887\"],[0.1111111111111111,\"#46039f\"],[0.2222222222222222,\"#7201a8\"],[0.3333333333333333,\"#9c179e\"],[0.4444444444444444,\"#bd3786\"],[0.5555555555555556,\"#d8576b\"],[0.6666666666666666,\"#ed7953\"],[0.7777777777777778,\"#fb9f3a\"],[0.8888888888888888,\"#fdca26\"],[1.0,\"#f0f921\"]]}],\"heatmapgl\":[{\"type\":\"heatmapgl\",\"colorbar\":{\"outlinewidth\":0,\"ticks\":\"\"},\"colorscale\":[[0.0,\"#0d0887\"],[0.1111111111111111,\"#46039f\"],[0.2222222222222222,\"#7201a8\"],[0.3333333333333333,\"#9c179e\"],[0.4444444444444444,\"#bd3786\"],[0.5555555555555556,\"#d8576b\"],[0.6666666666666666,\"#ed7953\"],[0.7777777777777778,\"#fb9f3a\"],[0.8888888888888888,\"#fdca26\"],[1.0,\"#f0f921\"]]}],\"contourcarpet\":[{\"type\":\"contourcarpet\",\"colorbar\":{\"outlinewidth\":0,\"ticks\":\"\"}}],\"contour\":[{\"type\":\"contour\",\"colorbar\":{\"outlinewidth\":0,\"ticks\":\"\"},\"colorscale\":[[0.0,\"#0d0887\"],[0.1111111111111111,\"#46039f\"],[0.2222222222222222,\"#7201a8\"],[0.3333333333333333,\"#9c179e\"],[0.4444444444444444,\"#bd3786\"],[0.5555555555555556,\"#d8576b\"],[0.6666666666666666,\"#ed7953\"],[0.7777777777777778,\"#fb9f3a\"],[0.8888888888888888,\"#fdca26\"],[1.0,\"#f0f921\"]]}],\"surface\":[{\"type\":\"surface\",\"colorbar\":{\"outlinewidth\":0,\"ticks\":\"\"},\"colorscale\":[[0.0,\"#0d0887\"],[0.1111111111111111,\"#46039f\"],[0.2222222222222222,\"#7201a8\"],[0.3333333333333333,\"#9c179e\"],[0.4444444444444444,\"#bd3786\"],[0.5555555555555556,\"#d8576b\"],[0.6666666666666666,\"#ed7953\"],[0.7777777777777778,\"#fb9f3a\"],[0.8888888888888888,\"#fdca26\"],[1.0,\"#f0f921\"]]}],\"mesh3d\":[{\"type\":\"mesh3d\",\"colorbar\":{\"outlinewidth\":0,\"ticks\":\"\"}}],\"scatter\":[{\"fillpattern\":{\"fillmode\":\"overlay\",\"size\":10,\"solidity\":0.2},\"type\":\"scatter\"}],\"parcoords\":[{\"type\":\"parcoords\",\"line\":{\"colorbar\":{\"outlinewidth\":0,\"ticks\":\"\"}}}],\"scatterpolargl\":[{\"type\":\"scatterpolargl\",\"marker\":{\"colorbar\":{\"outlinewidth\":0,\"ticks\":\"\"}}}],\"bar\":[{\"error_x\":{\"color\":\"#2a3f5f\"},\"error_y\":{\"color\":\"#2a3f5f\"},\"marker\":{\"line\":{\"color\":\"#E5ECF6\",\"width\":0.5},\"pattern\":{\"fillmode\":\"overlay\",\"size\":10,\"solidity\":0.2}},\"type\":\"bar\"}],\"scattergeo\":[{\"type\":\"scattergeo\",\"marker\":{\"colorbar\":{\"outlinewidth\":0,\"ticks\":\"\"}}}],\"scatterpolar\":[{\"type\":\"scatterpolar\",\"marker\":{\"colorbar\":{\"outlinewidth\":0,\"ticks\":\"\"}}}],\"histogram\":[{\"marker\":{\"pattern\":{\"fillmode\":\"overlay\",\"size\":10,\"solidity\":0.2}},\"type\":\"histogram\"}],\"scattergl\":[{\"type\":\"scattergl\",\"marker\":{\"colorbar\":{\"outlinewidth\":0,\"ticks\":\"\"}}}],\"scatter3d\":[{\"type\":\"scatter3d\",\"line\":{\"colorbar\":{\"outlinewidth\":0,\"ticks\":\"\"}},\"marker\":{\"colorbar\":{\"outlinewidth\":0,\"ticks\":\"\"}}}],\"scattermapbox\":[{\"type\":\"scattermapbox\",\"marker\":{\"colorbar\":{\"outlinewidth\":0,\"ticks\":\"\"}}}],\"scatterternary\":[{\"type\":\"scatterternary\",\"marker\":{\"colorbar\":{\"outlinewidth\":0,\"ticks\":\"\"}}}],\"scattercarpet\":[{\"type\":\"scattercarpet\",\"marker\":{\"colorbar\":{\"outlinewidth\":0,\"ticks\":\"\"}}}],\"carpet\":[{\"aaxis\":{\"endlinecolor\":\"#2a3f5f\",\"gridcolor\":\"white\",\"linecolor\":\"white\",\"minorgridcolor\":\"white\",\"startlinecolor\":\"#2a3f5f\"},\"baxis\":{\"endlinecolor\":\"#2a3f5f\",\"gridcolor\":\"white\",\"linecolor\":\"white\",\"minorgridcolor\":\"white\",\"startlinecolor\":\"#2a3f5f\"},\"type\":\"carpet\"}],\"table\":[{\"cells\":{\"fill\":{\"color\":\"#EBF0F8\"},\"line\":{\"color\":\"white\"}},\"header\":{\"fill\":{\"color\":\"#C8D4E3\"},\"line\":{\"color\":\"white\"}},\"type\":\"table\"}],\"barpolar\":[{\"marker\":{\"line\":{\"color\":\"#E5ECF6\",\"width\":0.5},\"pattern\":{\"fillmode\":\"overlay\",\"size\":10,\"solidity\":0.2}},\"type\":\"barpolar\"}],\"pie\":[{\"automargin\":true,\"type\":\"pie\"}]},\"layout\":{\"autotypenumbers\":\"strict\",\"colorway\":[\"#636efa\",\"#EF553B\",\"#00cc96\",\"#ab63fa\",\"#FFA15A\",\"#19d3f3\",\"#FF6692\",\"#B6E880\",\"#FF97FF\",\"#FECB52\"],\"font\":{\"color\":\"#2a3f5f\"},\"hovermode\":\"closest\",\"hoverlabel\":{\"align\":\"left\"},\"paper_bgcolor\":\"white\",\"plot_bgcolor\":\"#E5ECF6\",\"polar\":{\"bgcolor\":\"#E5ECF6\",\"angularaxis\":{\"gridcolor\":\"white\",\"linecolor\":\"white\",\"ticks\":\"\"},\"radialaxis\":{\"gridcolor\":\"white\",\"linecolor\":\"white\",\"ticks\":\"\"}},\"ternary\":{\"bgcolor\":\"#E5ECF6\",\"aaxis\":{\"gridcolor\":\"white\",\"linecolor\":\"white\",\"ticks\":\"\"},\"baxis\":{\"gridcolor\":\"white\",\"linecolor\":\"white\",\"ticks\":\"\"},\"caxis\":{\"gridcolor\":\"white\",\"linecolor\":\"white\",\"ticks\":\"\"}},\"coloraxis\":{\"colorbar\":{\"outlinewidth\":0,\"ticks\":\"\"}},\"colorscale\":{\"sequential\":[[0.0,\"#0d0887\"],[0.1111111111111111,\"#46039f\"],[0.2222222222222222,\"#7201a8\"],[0.3333333333333333,\"#9c179e\"],[0.4444444444444444,\"#bd3786\"],[0.5555555555555556,\"#d8576b\"],[0.6666666666666666,\"#ed7953\"],[0.7777777777777778,\"#fb9f3a\"],[0.8888888888888888,\"#fdca26\"],[1.0,\"#f0f921\"]],\"sequentialminus\":[[0.0,\"#0d0887\"],[0.1111111111111111,\"#46039f\"],[0.2222222222222222,\"#7201a8\"],[0.3333333333333333,\"#9c179e\"],[0.4444444444444444,\"#bd3786\"],[0.5555555555555556,\"#d8576b\"],[0.6666666666666666,\"#ed7953\"],[0.7777777777777778,\"#fb9f3a\"],[0.8888888888888888,\"#fdca26\"],[1.0,\"#f0f921\"]],\"diverging\":[[0,\"#8e0152\"],[0.1,\"#c51b7d\"],[0.2,\"#de77ae\"],[0.3,\"#f1b6da\"],[0.4,\"#fde0ef\"],[0.5,\"#f7f7f7\"],[0.6,\"#e6f5d0\"],[0.7,\"#b8e186\"],[0.8,\"#7fbc41\"],[0.9,\"#4d9221\"],[1,\"#276419\"]]},\"xaxis\":{\"gridcolor\":\"white\",\"linecolor\":\"white\",\"ticks\":\"\",\"title\":{\"standoff\":15},\"zerolinecolor\":\"white\",\"automargin\":true,\"zerolinewidth\":2},\"yaxis\":{\"gridcolor\":\"white\",\"linecolor\":\"white\",\"ticks\":\"\",\"title\":{\"standoff\":15},\"zerolinecolor\":\"white\",\"automargin\":true,\"zerolinewidth\":2},\"scene\":{\"xaxis\":{\"backgroundcolor\":\"#E5ECF6\",\"gridcolor\":\"white\",\"linecolor\":\"white\",\"showbackground\":true,\"ticks\":\"\",\"zerolinecolor\":\"white\",\"gridwidth\":2},\"yaxis\":{\"backgroundcolor\":\"#E5ECF6\",\"gridcolor\":\"white\",\"linecolor\":\"white\",\"showbackground\":true,\"ticks\":\"\",\"zerolinecolor\":\"white\",\"gridwidth\":2},\"zaxis\":{\"backgroundcolor\":\"#E5ECF6\",\"gridcolor\":\"white\",\"linecolor\":\"white\",\"showbackground\":true,\"ticks\":\"\",\"zerolinecolor\":\"white\",\"gridwidth\":2}},\"shapedefaults\":{\"line\":{\"color\":\"#2a3f5f\"}},\"annotationdefaults\":{\"arrowcolor\":\"#2a3f5f\",\"arrowhead\":0,\"arrowwidth\":1},\"geo\":{\"bgcolor\":\"white\",\"landcolor\":\"#E5ECF6\",\"subunitcolor\":\"white\",\"showland\":true,\"showlakes\":true,\"lakecolor\":\"white\"},\"title\":{\"x\":0.05},\"mapbox\":{\"style\":\"light\"}}},\"title\":{\"text\":\"Simple Bar Chart\"},\"xaxis\":{\"title\":{\"text\":\"Categories\"}},\"yaxis\":{\"title\":{\"text\":\"Values\"}}},                        {\"responsive\": true}                    ).then(function(){\n",
              "                            \n",
              "var gd = document.getElementById('ed919c53-bb78-46e5-86d7-044614944a25');\n",
              "var x = new MutationObserver(function (mutations, observer) {{\n",
              "        var display = window.getComputedStyle(gd).display;\n",
              "        if (!display || display === 'none') {{\n",
              "            console.log([gd, 'removed!']);\n",
              "            Plotly.purge(gd);\n",
              "            observer.disconnect();\n",
              "        }}\n",
              "}});\n",
              "\n",
              "// Listen for the removal of the full notebook cells\n",
              "var notebookContainer = gd.closest('#notebook-container');\n",
              "if (notebookContainer) {{\n",
              "    x.observe(notebookContainer, {childList: true});\n",
              "}}\n",
              "\n",
              "// Listen for the clearing of the current output cell\n",
              "var outputEl = gd.closest('.output');\n",
              "if (outputEl) {{\n",
              "    x.observe(outputEl, {childList: true});\n",
              "}}\n",
              "\n",
              "                        })                };                            </script>        </div>\n",
              "</body>\n",
              "</html>"
            ]
          },
          "metadata": {}
        }
      ]
    },
    {
      "cell_type": "markdown",
      "source": [
        "6.Create a DataFrame and add a new column based on an existing column."
      ],
      "metadata": {
        "id": "alisurPJaOaJ"
      }
    },
    {
      "cell_type": "code",
      "source": [
        "import pandas as pd\n",
        "datfr = {'Name': ['Karl', 'Gaurav', 'Ray', 'Mimo'], #code\n",
        "'Height': [6.2, 5.7, 6.1, 5.9],\n",
        "'Designation': ['Scientist', 'Professor', 'Data Analyst', 'Security Analyst']}\n",
        "df = pd.DataFrame(datfr)\n",
        "print(df)"
      ],
      "metadata": {
        "colab": {
          "base_uri": "https://localhost:8080/"
        },
        "id": "_2OABc_haNtW",
        "outputId": "7da34667-29a3-450a-aee4-51e9c92a8620"
      },
      "execution_count": 28,
      "outputs": [
        {
          "output_type": "stream",
          "name": "stdout",
          "text": [
            "     Name  Height       Designation\n",
            "0    Karl     6.2         Scientist\n",
            "1  Gaurav     5.7         Professor\n",
            "2     Ray     6.1      Data Analyst\n",
            "3    Mimo     5.9  Security Analyst\n"
          ]
        }
      ]
    },
    {
      "cell_type": "code",
      "source": [
        "import pandas as pd\n",
        "datfr = {'Name': ['Karl', 'Gaurav', 'Ray', 'Mimo'],\n",
        "'Height': [6.2, 5.7, 6.1, 5.9],\n",
        "'Designation': ['Scientist', 'Professor', 'Data Analyst', 'Security Analyst']} #Add using insert() Method\n",
        "df = pd.DataFrame(datfr)\n",
        "df.insert(3, \"Age\", [40, 33, 27, 26], True)\n",
        "print(df)"
      ],
      "metadata": {
        "colab": {
          "base_uri": "https://localhost:8080/"
        },
        "id": "hx97bQLqaV49",
        "outputId": "69fb24f2-da0f-495f-d796-2557c6c199c7"
      },
      "execution_count": 29,
      "outputs": [
        {
          "output_type": "stream",
          "name": "stdout",
          "text": [
            "     Name  Height       Designation  Age\n",
            "0    Karl     6.2         Scientist   40\n",
            "1  Gaurav     5.7         Professor   33\n",
            "2     Ray     6.1      Data Analyst   27\n",
            "3    Mimo     5.9  Security Analyst   26\n"
          ]
        }
      ]
    },
    {
      "cell_type": "markdown",
      "source": [
        "7.Write a program to perform element-wise multiplication of two NumPy arrays."
      ],
      "metadata": {
        "id": "SkGjWM-Paa-g"
      }
    },
    {
      "cell_type": "code",
      "source": [
        "#code\n",
        "import numpy as np\n",
        "nums1 = np.array([[2, 5, 2],\n",
        "              [1, 5, 5]])\n",
        "nums2 = np.array([[5, 3, 4],\n",
        "              [3, 2, 5]])\n",
        "print(\"Array1:\")\n",
        "print(nums1)\n",
        "print(\"Array2:\")\n",
        "print(nums2)\n",
        "print(\"\\nMultiply said arrays of same size element-by-element:\")\n",
        "print(np.multiply(nums1, nums2))"
      ],
      "metadata": {
        "colab": {
          "base_uri": "https://localhost:8080/"
        },
        "id": "jyoTa7LPaZ-N",
        "outputId": "82664e20-c467-444f-e55b-0a9c2354540a"
      },
      "execution_count": 30,
      "outputs": [
        {
          "output_type": "stream",
          "name": "stdout",
          "text": [
            "Array1:\n",
            "[[2 5 2]\n",
            " [1 5 5]]\n",
            "Array2:\n",
            "[[5 3 4]\n",
            " [3 2 5]]\n",
            "\n",
            "Multiply said arrays of same size element-by-element:\n",
            "[[10 15  8]\n",
            " [ 3 10 25]]\n"
          ]
        }
      ]
    },
    {
      "cell_type": "markdown",
      "source": [
        "8.Create a line plot with multiple lines using Matplotlib."
      ],
      "metadata": {
        "id": "HDsLlSw2bTl9"
      }
    },
    {
      "cell_type": "code",
      "source": [
        "import matplotlib.pyplot as plt\n",
        "import numpy as np\n",
        "from matplotlib.collections import LineCollection\n",
        "colors = [\"indigo\", \"blue\", \"green\", \"yellow\", \"orange\", \"red\"]\n",
        "theta = np.linspace(0, np.pi, 36)\n",
        "radii = np.linspace(4, 5, num=len(colors))\n",
        "arcs = [np.column_stack([r * np.cos(theta), r * np.sin(theta)]) for r in radii] #code\n",
        "fig, ax = plt.subplots(figsize=(6.4, 3.2))\n",
        "ax.set_xlim(-6, 6)\n",
        "ax.set_ylim(0, 6)\n",
        "ax.set_aspect(\"equal\")\n",
        "line_collection = LineCollection(arcs, colors=colors, linewidths=4)\n",
        "ax.add_collection(line_collection)\n",
        "plt.show()"
      ],
      "metadata": {
        "colab": {
          "base_uri": "https://localhost:8080/",
          "height": 312
        },
        "id": "FRZMGpLuagXN",
        "outputId": "48967e86-5fb3-4d08-e6a3-8e297c4e371e"
      },
      "execution_count": 32,
      "outputs": [
        {
          "output_type": "display_data",
          "data": {
            "text/plain": [
              "<Figure size 640x320 with 1 Axes>"
            ],
            "image/png": "[encoded data removed]"
          },
          "metadata": {}
        }
      ]
    },
    {
      "cell_type": "markdown",
      "source": [
        "9.Generate a Pandas DataFrame and filter rows where a column value is greater than a threshold."
      ],
      "metadata": {
        "id": "3YsizZrjbcD9"
      }
    },
    {
      "cell_type": "code",
      "source": [
        "import pandas as pd\n",
        "df = pd.DataFrame({\n",
        "    'city': ['A','B','C','D'],\n",
        "    'one': [7,11,20,8],\n",
        "    'two': [11,12,21,6],\n",
        "    'three': [13,13,22,4],\n",
        "    'four': [16,14,23,5],\n",
        "})\n",
        "print(df[(df[['one', 'two', 'three']]>10).all(axis=1)]) #code"
      ],
      "metadata": {
        "colab": {
          "base_uri": "https://localhost:8080/"
        },
        "id": "Vw2kjNh7batS",
        "outputId": "cc7c0cb3-0325-4775-dc47-5d00a9b1c9d5"
      },
      "execution_count": 33,
      "outputs": [
        {
          "output_type": "stream",
          "name": "stdout",
          "text": [
            "  city  one  two  three  four\n",
            "1    B   11   12     13    14\n",
            "2    C   20   21     22    23\n"
          ]
        }
      ]
    },
    {
      "cell_type": "markdown",
      "source": [
        "10.Create a histogram using Seaborn to visualize a distribution."
      ],
      "metadata": {
        "id": "FYw5y-kzbi0c"
      }
    },
    {
      "cell_type": "code",
      "source": [
        "import seaborn as sns #code\n",
        "import matplotlib.pyplot as plt\n",
        "sns.set_theme(style=\"darkgrid\")\n",
        "df = sns.load_dataset(\"iris\")\n",
        "sns\n",
        "sns.histplot(data=df, x=\"sepal_length\")\n",
        "plt.show()"
      ],
      "metadata": {
        "colab": {
          "base_uri": "https://localhost:8080/",
          "height": 458
        },
        "id": "Msr8uc1mbhNB",
        "outputId": "d55d8402-391e-49f0-a0c5-4c5b538c79cd"
      },
      "execution_count": 34,
      "outputs": [
        {
          "output_type": "display_data",
          "data": {
            "text/plain": [
              "<Figure size 640x480 with 1 Axes>"
            ],
            "image/png": "[encoded data removed]"
          },
          "metadata": {}
        }
      ]
    },
    {
      "cell_type": "markdown",
      "source": [
        "11. Perform matrix multiplication using NumPy."
      ],
      "metadata": {
        "id": "aY8mG7HTbo39"
      }
    },
    {
      "cell_type": "code",
      "source": [
        "import numpy as np\n",
        "matrix1 = np.array([[1, 2], [3, 4]])\n",
        "matrix2 = np.array([[5, 6], [7, 8]])\n",
        "result_matmul = np.matmul(matrix1, matrix2)\n",
        "print(\"Matrix multiplication using np.matmul():\", result_matmul) #code\n",
        "result_at = matrix1 @ matrix2\n",
        "print(\"Matrix multiplication using the @ operator:\", result_at)"
      ],
      "metadata": {
        "colab": {
          "base_uri": "https://localhost:8080/"
        },
        "id": "YTvRr0M9bshI",
        "outputId": "d61e4ed1-994e-453f-b3f0-277c4c6084ea"
      },
      "execution_count": 35,
      "outputs": [
        {
          "output_type": "stream",
          "name": "stdout",
          "text": [
            "Matrix multiplication using np.matmul(): [[19 22]\n",
            " [43 50]]\n",
            "Matrix multiplication using the @ operator: [[19 22]\n",
            " [43 50]]\n"
          ]
        }
      ]
    },
    {
      "cell_type": "markdown",
      "source": [
        "12.Use Pandas to load a CSV file and display its first 5 rows."
      ],
      "metadata": {
        "id": "PyT5Aezqbw1E"
      }
    },
    {
      "cell_type": "code",
      "source": [
        "import pandas as pd\n",
        "pd.set_option('display.max_rows', 50)\n",
        "pd.set_option('display.max_columns', 50)\n",
        "diamonds = pd.read_csv('https://raw.githubusercontent.com/mwaskom/seaborn-data/master/diamonds.csv')\n",
        "print(\"First 5 rows:\") #code\n",
        "print(diamonds.head())"
      ],
      "metadata": {
        "colab": {
          "base_uri": "https://localhost:8080/"
        },
        "id": "bHjhmLPZbv65",
        "outputId": "e4abcf78-9001-4d76-e4e2-de41922045eb"
      },
      "execution_count": 36,
      "outputs": [
        {
          "output_type": "stream",
          "name": "stdout",
          "text": [
            "First 5 rows:\n",
            "   carat      cut color clarity  depth  table  price     x     y     z\n",
            "0   0.23    Ideal     E     SI2   61.5   55.0    326  3.95  3.98  2.43\n",
            "1   0.21  Premium     E     SI1   59.8   61.0    326  3.89  3.84  2.31\n",
            "2   0.23     Good     E     VS1   56.9   65.0    327  4.05  4.07  2.31\n",
            "3   0.29  Premium     I     VS2   62.4   58.0    334  4.20  4.23  2.63\n",
            "4   0.31     Good     J     SI2   63.3   58.0    335  4.34  4.35  2.75\n"
          ]
        }
      ]
    },
    {
      "cell_type": "markdown",
      "source": [
        "13.Create a 3D scatter plot using Plotly,"
      ],
      "metadata": {
        "id": "XgL3aw0ab4uz"
      }
    },
    {
      "cell_type": "code",
      "source": [
        "import plotly.express as px\n",
        "df = px.data.iris()\n",
        "fig = px.scatter_3d(df, x='sepal_length', y='sepal_width', z='petal_width',\n",
        "              color='species')\n",
        "fig.show()"
      ],
      "metadata": {
        "colab": {
          "base_uri": "https://localhost:8080/",
          "height": 542
        },
        "id": "bb2jzaKJgNUx",
        "outputId": "21fdd657-2362-4b56-af50-e44049795cd4"
      },
      "execution_count": 40,
      "outputs": [
        {
          "output_type": "display_data",
          "data": {
            "text/html": [
              "<html>\n",
              "<head><meta charset=\"utf-8\" /></head>\n",
              "<body>\n",
              "    <div>            <script src=\"https://cdnjs.cloudflare.com/ajax/libs/mathjax/2.7.5/MathJax.js?config=TeX-AMS-MML_SVG\"></script><script type=\"text/javascript\">if (window.MathJax && window.MathJax.Hub && window.MathJax.Hub.Config) {window.MathJax.Hub.Config({SVG: {font: \"STIX-Web\"}});}</script>                <script type=\"text/javascript\">window.PlotlyConfig = {MathJaxConfig: 'local'};</script>\n",
              "        <script charset=\"utf-8\" src=\"https://cdn.plot.ly/plotly-2.35.2.min.js\"></script>                <div id=\"10a0771e-28ed-42a4-bd48-c59128c29e90\" class=\"plotly-graph-div\" style=\"height:525px; width:100%;\"></div>            <script type=\"text/javascript\">                                    window.PLOTLYENV=window.PLOTLYENV || {};                                    if (document.getElementById(\"10a0771e-28ed-42a4-bd48-c59128c29e90\")) {                    Plotly.newPlot(                        \"10a0771e-28ed-42a4-bd48-c59128c29e90\",                        [{\"hovertemplate\":\"species=setosa\\u003cbr\\u003esepal_length=%{x}\\u003cbr\\u003esepal_width=%{y}\\u003cbr\\u003epetal_width=%{z}\\u003cextra\\u003e\\u003c\\u002fextra\\u003e\",\"legendgroup\":\"setosa\",\"marker\":{\"color\":\"#636efa\",\"symbol\":\"circle\"},\"mode\":\"markers\",\"name\":\"setosa\",\"scene\":\"scene\",\"showlegend\":true,\"x\":[5.1,4.9,4.7,4.6,5.0,5.4,4.6,5.0,4.4,4.9,5.4,4.8,4.8,4.3,5.8,5.7,5.4,5.1,5.7,5.1,5.4,5.1,4.6,5.1,4.8,5.0,5.0,5.2,5.2,4.7,4.8,5.4,5.2,5.5,4.9,5.0,5.5,4.9,4.4,5.1,5.0,4.5,4.4,5.0,5.1,4.8,5.1,4.6,5.3,5.0],\"y\":[3.5,3.0,3.2,3.1,3.6,3.9,3.4,3.4,2.9,3.1,3.7,3.4,3.0,3.0,4.0,4.4,3.9,3.5,3.8,3.8,3.4,3.7,3.6,3.3,3.4,3.0,3.4,3.5,3.4,3.2,3.1,3.4,4.1,4.2,3.1,3.2,3.5,3.1,3.0,3.4,3.5,2.3,3.2,3.5,3.8,3.0,3.8,3.2,3.7,3.3],\"z\":[0.2,0.2,0.2,0.2,0.2,0.4,0.3,0.2,0.2,0.1,0.2,0.2,0.1,0.1,0.2,0.4,0.4,0.3,0.3,0.3,0.2,0.4,0.2,0.5,0.2,0.2,0.4,0.2,0.2,0.2,0.2,0.4,0.1,0.2,0.1,0.2,0.2,0.1,0.2,0.2,0.3,0.3,0.2,0.6,0.4,0.3,0.2,0.2,0.2,0.2],\"type\":\"scatter3d\"},{\"hovertemplate\":\"species=versicolor\\u003cbr\\u003esepal_length=%{x}\\u003cbr\\u003esepal_width=%{y}\\u003cbr\\u003epetal_width=%{z}\\u003cextra\\u003e\\u003c\\u002fextra\\u003e\",\"legendgroup\":\"versicolor\",\"marker\":{\"color\":\"#EF553B\",\"symbol\":\"circle\"},\"mode\":\"markers\",\"name\":\"versicolor\",\"scene\":\"scene\",\"showlegend\":true,\"x\":[7.0,6.4,6.9,5.5,6.5,5.7,6.3,4.9,6.6,5.2,5.0,5.9,6.0,6.1,5.6,6.7,5.6,5.8,6.2,5.6,5.9,6.1,6.3,6.1,6.4,6.6,6.8,6.7,6.0,5.7,5.5,5.5,5.8,6.0,5.4,6.0,6.7,6.3,5.6,5.5,5.5,6.1,5.8,5.0,5.6,5.7,5.7,6.2,5.1,5.7],\"y\":[3.2,3.2,3.1,2.3,2.8,2.8,3.3,2.4,2.9,2.7,2.0,3.0,2.2,2.9,2.9,3.1,3.0,2.7,2.2,2.5,3.2,2.8,2.5,2.8,2.9,3.0,2.8,3.0,2.9,2.6,2.4,2.4,2.7,2.7,3.0,3.4,3.1,2.3,3.0,2.5,2.6,3.0,2.6,2.3,2.7,3.0,2.9,2.9,2.5,2.8],\"z\":[1.4,1.5,1.5,1.3,1.5,1.3,1.6,1.0,1.3,1.4,1.0,1.5,1.0,1.4,1.3,1.4,1.5,1.0,1.5,1.1,1.8,1.3,1.5,1.2,1.3,1.4,1.4,1.7,1.5,1.0,1.1,1.0,1.2,1.6,1.5,1.6,1.5,1.3,1.3,1.3,1.2,1.4,1.2,1.0,1.3,1.2,1.3,1.3,1.1,1.3],\"type\":\"scatter3d\"},{\"hovertemplate\":\"species=virginica\\u003cbr\\u003esepal_length=%{x}\\u003cbr\\u003esepal_width=%{y}\\u003cbr\\u003epetal_width=%{z}\\u003cextra\\u003e\\u003c\\u002fextra\\u003e\",\"legendgroup\":\"virginica\",\"marker\":{\"color\":\"#00cc96\",\"symbol\":\"circle\"},\"mode\":\"markers\",\"name\":\"virginica\",\"scene\":\"scene\",\"showlegend\":true,\"x\":[6.3,5.8,7.1,6.3,6.5,7.6,4.9,7.3,6.7,7.2,6.5,6.4,6.8,5.7,5.8,6.4,6.5,7.7,7.7,6.0,6.9,5.6,7.7,6.3,6.7,7.2,6.2,6.1,6.4,7.2,7.4,7.9,6.4,6.3,6.1,7.7,6.3,6.4,6.0,6.9,6.7,6.9,5.8,6.8,6.7,6.7,6.3,6.5,6.2,5.9],\"y\":[3.3,2.7,3.0,2.9,3.0,3.0,2.5,2.9,2.5,3.6,3.2,2.7,3.0,2.5,2.8,3.2,3.0,3.8,2.6,2.2,3.2,2.8,2.8,2.7,3.3,3.2,2.8,3.0,2.8,3.0,2.8,3.8,2.8,2.8,2.6,3.0,3.4,3.1,3.0,3.1,3.1,3.1,2.7,3.2,3.3,3.0,2.5,3.0,3.4,3.0],\"z\":[2.5,1.9,2.1,1.8,2.2,2.1,1.7,1.8,1.8,2.5,2.0,1.9,2.1,2.0,2.4,2.3,1.8,2.2,2.3,1.5,2.3,2.0,2.0,1.8,2.1,1.8,1.8,1.8,2.1,1.6,1.9,2.0,2.2,1.5,1.4,2.3,2.4,1.8,1.8,2.1,2.4,2.3,1.9,2.3,2.5,2.3,1.9,2.0,2.3,1.8],\"type\":\"scatter3d\"}],                        {\"template\":{\"data\":{\"histogram2dcontour\":[{\"type\":\"histogram2dcontour\",\"colorbar\":{\"outlinewidth\":0,\"ticks\":\"\"},\"colorscale\":[[0.0,\"#0d0887\"],[0.1111111111111111,\"#46039f\"],[0.2222222222222222,\"#7201a8\"],[0.3333333333333333,\"#9c179e\"],[0.4444444444444444,\"#bd3786\"],[0.5555555555555556,\"#d8576b\"],[0.6666666666666666,\"#ed7953\"],[0.7777777777777778,\"#fb9f3a\"],[0.8888888888888888,\"#fdca26\"],[1.0,\"#f0f921\"]]}],\"choropleth\":[{\"type\":\"choropleth\",\"colorbar\":{\"outlinewidth\":0,\"ticks\":\"\"}}],\"histogram2d\":[{\"type\":\"histogram2d\",\"colorbar\":{\"outlinewidth\":0,\"ticks\":\"\"},\"colorscale\":[[0.0,\"#0d0887\"],[0.1111111111111111,\"#46039f\"],[0.2222222222222222,\"#7201a8\"],[0.3333333333333333,\"#9c179e\"],[0.4444444444444444,\"#bd3786\"],[0.5555555555555556,\"#d8576b\"],[0.6666666666666666,\"#ed7953\"],[0.7777777777777778,\"#fb9f3a\"],[0.8888888888888888,\"#fdca26\"],[1.0,\"#f0f921\"]]}],\"heatmap\":[{\"type\":\"heatmap\",\"colorbar\":{\"outlinewidth\":0,\"ticks\":\"\"},\"colorscale\":[[0.0,\"#0d0887\"],[0.1111111111111111,\"#46039f\"],[0.2222222222222222,\"#7201a8\"],[0.3333333333333333,\"#9c179e\"],[0.4444444444444444,\"#bd3786\"],[0.5555555555555556,\"#d8576b\"],[0.6666666666666666,\"#ed7953\"],[0.7777777777777778,\"#fb9f3a\"],[0.8888888888888888,\"#fdca26\"],[1.0,\"#f0f921\"]]}],\"heatmapgl\":[{\"type\":\"heatmapgl\",\"colorbar\":{\"outlinewidth\":0,\"ticks\":\"\"},\"colorscale\":[[0.0,\"#0d0887\"],[0.1111111111111111,\"#46039f\"],[0.2222222222222222,\"#7201a8\"],[0.3333333333333333,\"#9c179e\"],[0.4444444444444444,\"#bd3786\"],[0.5555555555555556,\"#d8576b\"],[0.6666666666666666,\"#ed7953\"],[0.7777777777777778,\"#fb9f3a\"],[0.8888888888888888,\"#fdca26\"],[1.0,\"#f0f921\"]]}],\"contourcarpet\":[{\"type\":\"contourcarpet\",\"colorbar\":{\"outlinewidth\":0,\"ticks\":\"\"}}],\"contour\":[{\"type\":\"contour\",\"colorbar\":{\"outlinewidth\":0,\"ticks\":\"\"},\"colorscale\":[[0.0,\"#0d0887\"],[0.1111111111111111,\"#46039f\"],[0.2222222222222222,\"#7201a8\"],[0.3333333333333333,\"#9c179e\"],[0.4444444444444444,\"#bd3786\"],[0.5555555555555556,\"#d8576b\"],[0.6666666666666666,\"#ed7953\"],[0.7777777777777778,\"#fb9f3a\"],[0.8888888888888888,\"#fdca26\"],[1.0,\"#f0f921\"]]}],\"surface\":[{\"type\":\"surface\",\"colorbar\":{\"outlinewidth\":0,\"ticks\":\"\"},\"colorscale\":[[0.0,\"#0d0887\"],[0.1111111111111111,\"#46039f\"],[0.2222222222222222,\"#7201a8\"],[0.3333333333333333,\"#9c179e\"],[0.4444444444444444,\"#bd3786\"],[0.5555555555555556,\"#d8576b\"],[0.6666666666666666,\"#ed7953\"],[0.7777777777777778,\"#fb9f3a\"],[0.8888888888888888,\"#fdca26\"],[1.0,\"#f0f921\"]]}],\"mesh3d\":[{\"type\":\"mesh3d\",\"colorbar\":{\"outlinewidth\":0,\"ticks\":\"\"}}],\"scatter\":[{\"fillpattern\":{\"fillmode\":\"overlay\",\"size\":10,\"solidity\":0.2},\"type\":\"scatter\"}],\"parcoords\":[{\"type\":\"parcoords\",\"line\":{\"colorbar\":{\"outlinewidth\":0,\"ticks\":\"\"}}}],\"scatterpolargl\":[{\"type\":\"scatterpolargl\",\"marker\":{\"colorbar\":{\"outlinewidth\":0,\"ticks\":\"\"}}}],\"bar\":[{\"error_x\":{\"color\":\"#2a3f5f\"},\"error_y\":{\"color\":\"#2a3f5f\"},\"marker\":{\"line\":{\"color\":\"#E5ECF6\",\"width\":0.5},\"pattern\":{\"fillmode\":\"overlay\",\"size\":10,\"solidity\":0.2}},\"type\":\"bar\"}],\"scattergeo\":[{\"type\":\"scattergeo\",\"marker\":{\"colorbar\":{\"outlinewidth\":0,\"ticks\":\"\"}}}],\"scatterpolar\":[{\"type\":\"scatterpolar\",\"marker\":{\"colorbar\":{\"outlinewidth\":0,\"ticks\":\"\"}}}],\"histogram\":[{\"marker\":{\"pattern\":{\"fillmode\":\"overlay\",\"size\":10,\"solidity\":0.2}},\"type\":\"histogram\"}],\"scattergl\":[{\"type\":\"scattergl\",\"marker\":{\"colorbar\":{\"outlinewidth\":0,\"ticks\":\"\"}}}],\"scatter3d\":[{\"type\":\"scatter3d\",\"line\":{\"colorbar\":{\"outlinewidth\":0,\"ticks\":\"\"}},\"marker\":{\"colorbar\":{\"outlinewidth\":0,\"ticks\":\"\"}}}],\"scattermapbox\":[{\"type\":\"scattermapbox\",\"marker\":{\"colorbar\":{\"outlinewidth\":0,\"ticks\":\"\"}}}],\"scatterternary\":[{\"type\":\"scatterternary\",\"marker\":{\"colorbar\":{\"outlinewidth\":0,\"ticks\":\"\"}}}],\"scattercarpet\":[{\"type\":\"scattercarpet\",\"marker\":{\"colorbar\":{\"outlinewidth\":0,\"ticks\":\"\"}}}],\"carpet\":[{\"aaxis\":{\"endlinecolor\":\"#2a3f5f\",\"gridcolor\":\"white\",\"linecolor\":\"white\",\"minorgridcolor\":\"white\",\"startlinecolor\":\"#2a3f5f\"},\"baxis\":{\"endlinecolor\":\"#2a3f5f\",\"gridcolor\":\"white\",\"linecolor\":\"white\",\"minorgridcolor\":\"white\",\"startlinecolor\":\"#2a3f5f\"},\"type\":\"carpet\"}],\"table\":[{\"cells\":{\"fill\":{\"color\":\"#EBF0F8\"},\"line\":{\"color\":\"white\"}},\"header\":{\"fill\":{\"color\":\"#C8D4E3\"},\"line\":{\"color\":\"white\"}},\"type\":\"table\"}],\"barpolar\":[{\"marker\":{\"line\":{\"color\":\"#E5ECF6\",\"width\":0.5},\"pattern\":{\"fillmode\":\"overlay\",\"size\":10,\"solidity\":0.2}},\"type\":\"barpolar\"}],\"pie\":[{\"automargin\":true,\"type\":\"pie\"}]},\"layout\":{\"autotypenumbers\":\"strict\",\"colorway\":[\"#636efa\",\"#EF553B\",\"#00cc96\",\"#ab63fa\",\"#FFA15A\",\"#19d3f3\",\"#FF6692\",\"#B6E880\",\"#FF97FF\",\"#FECB52\"],\"font\":{\"color\":\"#2a3f5f\"},\"hovermode\":\"closest\",\"hoverlabel\":{\"align\":\"left\"},\"paper_bgcolor\":\"white\",\"plot_bgcolor\":\"#E5ECF6\",\"polar\":{\"bgcolor\":\"#E5ECF6\",\"angularaxis\":{\"gridcolor\":\"white\",\"linecolor\":\"white\",\"ticks\":\"\"},\"radialaxis\":{\"gridcolor\":\"white\",\"linecolor\":\"white\",\"ticks\":\"\"}},\"ternary\":{\"bgcolor\":\"#E5ECF6\",\"aaxis\":{\"gridcolor\":\"white\",\"linecolor\":\"white\",\"ticks\":\"\"},\"baxis\":{\"gridcolor\":\"white\",\"linecolor\":\"white\",\"ticks\":\"\"},\"caxis\":{\"gridcolor\":\"white\",\"linecolor\":\"white\",\"ticks\":\"\"}},\"coloraxis\":{\"colorbar\":{\"outlinewidth\":0,\"ticks\":\"\"}},\"colorscale\":{\"sequential\":[[0.0,\"#0d0887\"],[0.1111111111111111,\"#46039f\"],[0.2222222222222222,\"#7201a8\"],[0.3333333333333333,\"#9c179e\"],[0.4444444444444444,\"#bd3786\"],[0.5555555555555556,\"#d8576b\"],[0.6666666666666666,\"#ed7953\"],[0.7777777777777778,\"#fb9f3a\"],[0.8888888888888888,\"#fdca26\"],[1.0,\"#f0f921\"]],\"sequentialminus\":[[0.0,\"#0d0887\"],[0.1111111111111111,\"#46039f\"],[0.2222222222222222,\"#7201a8\"],[0.3333333333333333,\"#9c179e\"],[0.4444444444444444,\"#bd3786\"],[0.5555555555555556,\"#d8576b\"],[0.6666666666666666,\"#ed7953\"],[0.7777777777777778,\"#fb9f3a\"],[0.8888888888888888,\"#fdca26\"],[1.0,\"#f0f921\"]],\"diverging\":[[0,\"#8e0152\"],[0.1,\"#c51b7d\"],[0.2,\"#de77ae\"],[0.3,\"#f1b6da\"],[0.4,\"#fde0ef\"],[0.5,\"#f7f7f7\"],[0.6,\"#e6f5d0\"],[0.7,\"#b8e186\"],[0.8,\"#7fbc41\"],[0.9,\"#4d9221\"],[1,\"#276419\"]]},\"xaxis\":{\"gridcolor\":\"white\",\"linecolor\":\"white\",\"ticks\":\"\",\"title\":{\"standoff\":15},\"zerolinecolor\":\"white\",\"automargin\":true,\"zerolinewidth\":2},\"yaxis\":{\"gridcolor\":\"white\",\"linecolor\":\"white\",\"ticks\":\"\",\"title\":{\"standoff\":15},\"zerolinecolor\":\"white\",\"automargin\":true,\"zerolinewidth\":2},\"scene\":{\"xaxis\":{\"backgroundcolor\":\"#E5ECF6\",\"gridcolor\":\"white\",\"linecolor\":\"white\",\"showbackground\":true,\"ticks\":\"\",\"zerolinecolor\":\"white\",\"gridwidth\":2},\"yaxis\":{\"backgroundcolor\":\"#E5ECF6\",\"gridcolor\":\"white\",\"linecolor\":\"white\",\"showbackground\":true,\"ticks\":\"\",\"zerolinecolor\":\"white\",\"gridwidth\":2},\"zaxis\":{\"backgroundcolor\":\"#E5ECF6\",\"gridcolor\":\"white\",\"linecolor\":\"white\",\"showbackground\":true,\"ticks\":\"\",\"zerolinecolor\":\"white\",\"gridwidth\":2}},\"shapedefaults\":{\"line\":{\"color\":\"#2a3f5f\"}},\"annotationdefaults\":{\"arrowcolor\":\"#2a3f5f\",\"arrowhead\":0,\"arrowwidth\":1},\"geo\":{\"bgcolor\":\"white\",\"landcolor\":\"#E5ECF6\",\"subunitcolor\":\"white\",\"showland\":true,\"showlakes\":true,\"lakecolor\":\"white\"},\"title\":{\"x\":0.05},\"mapbox\":{\"style\":\"light\"}}},\"scene\":{\"domain\":{\"x\":[0.0,1.0],\"y\":[0.0,1.0]},\"xaxis\":{\"title\":{\"text\":\"sepal_length\"}},\"yaxis\":{\"title\":{\"text\":\"sepal_width\"}},\"zaxis\":{\"title\":{\"text\":\"petal_width\"}}},\"legend\":{\"title\":{\"text\":\"species\"},\"tracegroupgap\":0},\"margin\":{\"t\":60}},                        {\"responsive\": true}                    ).then(function(){\n",
              "                            \n",
              "var gd = document.getElementById('10a0771e-28ed-42a4-bd48-c59128c29e90');\n",
              "var x = new MutationObserver(function (mutations, observer) {{\n",
              "        var display = window.getComputedStyle(gd).display;\n",
              "        if (!display || display === 'none') {{\n",
              "            console.log([gd, 'removed!']);\n",
              "            Plotly.purge(gd);\n",
              "            observer.disconnect();\n",
              "        }}\n",
              "}});\n",
              "\n",
              "// Listen for the removal of the full notebook cells\n",
              "var notebookContainer = gd.closest('#notebook-container');\n",
              "if (notebookContainer) {{\n",
              "    x.observe(notebookContainer, {childList: true});\n",
              "}}\n",
              "\n",
              "// Listen for the clearing of the current output cell\n",
              "var outputEl = gd.closest('.output');\n",
              "if (outputEl) {{\n",
              "    x.observe(outputEl, {childList: true});\n",
              "}}\n",
              "\n",
              "                        })                };                            </script>        </div>\n",
              "</body>\n",
              "</html>"
            ]
          },
          "metadata": {}
        }
      ]
    },
    {
      "cell_type": "code",
      "source": [],
      "metadata": {
        "id": "xV-_DG3Sgcdw"
      },
      "execution_count": null,
      "outputs": []
    }
  ]
}